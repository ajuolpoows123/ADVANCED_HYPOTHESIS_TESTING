{
 "cells": [
  {
   "cell_type": "markdown",
   "metadata": {},
   "source": [
    "JAMAR SANDERS DSC_510_ADVANCED_HYPOTHESIS_TESTING_2024"
   ]
  },
  {
   "cell_type": "markdown",
   "metadata": {},
   "source": [
    "Paired Data Analysis Below"
   ]
  },
  {
   "cell_type": "markdown",
   "metadata": {},
   "source": [
    "Problem:\n",
    "The problem involves analyzing how exchange rates changed between two specific years, 2016 and 2017, for various countries. The aim is to compare the exchange rate data for these two years to determine whether there is a significant difference in the exchange rates between these years across different countries.\n",
    "\n",
    "Data:\n",
    "The data consists of annual exchange rate values for multiple countries over time. The dataset contains the following columns:\n",
    "\n",
    "Country: \n",
    "The name of the country.\n",
    "Date: The date of the exchange rate record (this is converted to the year).\n",
    "Exchange Rate: The exchange rate of the country's currency relative to a reference currency for a given year.\n",
    "The dataset includes multiple records per country, with exchange rates recorded for several years.\n",
    "\n",
    "Research Question:\n",
    "Is there a significant difference in the exchange rates between 2016 and 2017 for each country?\n",
    "This question is asking if the exchange rate change from 2016 to 2017 is statistically significant. Specifically, comparing two paired observations (2016 and 2017 exchange rates) for each country. The hypothesis test used to address this question is a paired t-test.\n",
    "\n",
    "Paired t-test:\n",
    "A paired t-test is appropriate here because I compare two related samples (exchange rates for the same countries in two different years). This test helps determine if there is a significant difference in the means of two paired samples.\n",
    "\n",
    "Null Hypothesis (H0):\n",
    " The average difference in exchange rates between 2016 and 2017 is zero (no significant difference).\n",
    "Alternative Hypothesis (H1): The average difference in exchange rates between 2016 and 2017 is not zero (there is a significant difference).\n",
    "The t-test will help evaluate whether the observed differences in exchange rates between the two years are statistically significant or if they could have occurred by random chance.\n",
    "\n",
    "Statistical Tests:\n",
    "Paired T-Test: Assumes normality of differences.\n",
    "Wilcoxon Test: Non-parametric alternative for non-normal data.\n",
    "\n",
    "Assumptions:\n",
    "Exchange rate differences are independent.\n",
    "Data is paired by currency.\n",
    "\n",
    "Remedies for Violations:\n",
    "Use non-parametric tests (e.g., Wilcoxon) for non-normal data.\n",
    "Log-transform data if variances are unequal."
   ]
  },
  {
   "cell_type": "markdown",
   "metadata": {},
   "source": [
    "Load and Read"
   ]
  },
  {
   "cell_type": "code",
   "execution_count": 29,
   "metadata": {},
   "outputs": [],
   "source": [
    "import pandas as pd\n",
    "from scipy import stats\n",
    "\n",
    "# Load the cleaned data\n",
    "data = pd.read_csv('C:/Users/jamar/Downloads/EXCHANGE_RATES_ANNUAL_DATASET.csv')"
   ]
  },
  {
   "cell_type": "markdown",
   "metadata": {},
   "source": [
    "Data Cleaning via Formatting of Date "
   ]
  },
  {
   "cell_type": "code",
   "execution_count": 30,
   "metadata": {},
   "outputs": [],
   "source": [
    "# Ensure 'Date' is in datetime format, extracting the year if it's not\n",
    "data['Year'] = pd.to_datetime(data['Date']).dt.year"
   ]
  },
  {
   "cell_type": "markdown",
   "metadata": {},
   "source": [
    "Data Cleaning via filtering"
   ]
  },
  {
   "cell_type": "code",
   "execution_count": 31,
   "metadata": {},
   "outputs": [],
   "source": [
    "# Filter the data for two years (e.g., 2016 and 2017)\n",
    "filtered_data = data[data['Year'].isin([2016, 2017])]"
   ]
  },
  {
   "cell_type": "markdown",
   "metadata": {},
   "source": [
    "Data Cleaning via Organization"
   ]
  },
  {
   "cell_type": "code",
   "execution_count": 32,
   "metadata": {},
   "outputs": [],
   "source": [
    "# Pivot the data to have countries as rows, years as columns, and exchange rates as values\n",
    "pivoted_data = filtered_data.pivot(index='Country', columns='Year', values='Exchange rate')"
   ]
  },
  {
   "cell_type": "markdown",
   "metadata": {},
   "source": [
    "Data Cleaning via Removal"
   ]
  },
  {
   "cell_type": "code",
   "execution_count": 33,
   "metadata": {},
   "outputs": [],
   "source": [
    "# Remove rows with missing data for the years of interest (2016, 2017)\n",
    "pivoted_data = pivoted_data.dropna(subset=[2016, 2017])"
   ]
  },
  {
   "cell_type": "markdown",
   "metadata": {},
   "source": [
    "Calculation and Check"
   ]
  },
  {
   "cell_type": "code",
   "execution_count": 34,
   "metadata": {},
   "outputs": [],
   "source": [
    "# Calculate the difference between 2017 and 2016 for each country\n",
    "pivoted_data['Difference'] = pivoted_data[2017] - pivoted_data[2016]"
   ]
  },
  {
   "cell_type": "markdown",
   "metadata": {},
   "source": [
    "Paired t-test"
   ]
  },
  {
   "cell_type": "code",
   "execution_count": 35,
   "metadata": {},
   "outputs": [
    {
     "name": "stdout",
     "output_type": "stream",
     "text": [
      "T-statistic: -1.078301351907209\n",
      "P-value: 0.2937333811721347\n"
     ]
    }
   ],
   "source": [
    "# Perform the paired t-test for the difference\n",
    "t_stat, p_value = stats.ttest_1samp(pivoted_data['Difference'], 0)\n",
    "\n",
    "# Print the results\n",
    "print(f'T-statistic: {t_stat}')\n",
    "print(f'P-value: {p_value}')"
   ]
  },
  {
   "cell_type": "markdown",
   "metadata": {},
   "source": [
    "Paired t-test differences"
   ]
  },
  {
   "cell_type": "code",
   "execution_count": 36,
   "metadata": {},
   "outputs": [
    {
     "name": "stdout",
     "output_type": "stream",
     "text": [
      "Year       Difference\n",
      "Country              \n",
      "Australia   -0.039572\n",
      "Brazil      -0.292900\n",
      "Canada      -0.025900\n",
      "China        0.116900\n",
      "Denmark     -0.131900\n"
     ]
    }
   ],
   "source": [
    "# Display the data with the difference\n",
    "print(pivoted_data[['Difference']].head())"
   ]
  },
  {
   "cell_type": "markdown",
   "metadata": {},
   "source": [
    "Paired Data Analysis Visualizations"
   ]
  },
  {
   "cell_type": "code",
   "execution_count": 48,
   "metadata": {},
   "outputs": [
    {
     "data": {
      "image/png": "[encoded data removed]",
      "text/plain": [
       "<Figure size 640x480 with 1 Axes>"
      ]
     },
     "metadata": {},
     "output_type": "display_data"
    }
   ],
   "source": [
    "import seaborn as sns\n",
    "import matplotlib.pyplot as plt\n",
    "\n",
    "# Create a boxplot for the differences in exchange rates\n",
    "sns.boxplot(x=pivoted_data['Difference'])\n",
    "plt.title('Boxplot of Differences in Exchange Rates (2017 - 2016)')\n",
    "plt.show()"
   ]
  },
  {
   "cell_type": "markdown",
   "metadata": {},
   "source": [
    "Multiple Population Means Below"
   ]
  },
  {
   "cell_type": "markdown",
   "metadata": {},
   "source": [
    "Problem:\n",
    "The task involves analyzing house prices from different categories (e.g., all houses, new houses, modern houses, older houses) across multiple years to understand whether there are significant differences between these groups.\n",
    "\n",
    "Research Question:\n",
    "Do house prices for different categories (All, New, Modern, Older) differ significantly from each other?\n",
    "\n",
    "Appropriate Statistical Test:\n",
    "To analyze this, I use One-Way ANOVA (Analysis of Variance). This test compares the means of more than two groups to determine if at least one group is statistically different from the others.\n",
    "\n",
    "Assumptions of One-Way ANOVA:\n",
    "Independence of observations: \n",
    "The data from each group should be independent of the others.\n",
    "Normality: The data within each group should be approximately normally distributed.\n",
    "Homogeneity of variance: The variances within each group should be approximately equal.\n",
    "\n",
    "Potential Consequences of Violating Assumptions:\n",
    "Independence: If observations are not independent, the results of the test could be biased.\n",
    "Normality: If the data is not normally distributed, the results may not be reliable, especially for smaller sample sizes.\n",
    "Homogeneity of variance: If variances are not equal, the ANOVA results could be misleading. A test like Welch's ANOVA could be used in such cases.\n",
    "\n",
    "Remedies for Violating Assumptions:\n",
    "Independence: Ensure the data is collected properly.\n",
    "Normality: Use non-parametric tests (e.g., Kruskal-Wallis) if normality is violated.\n",
    "Homogeneity of variance: Use Welch's ANOVA or transform the data.\n",
    "\n",
    "Python Tool for Interpretation:\n",
    "SciPy for the ANOVA test and Matplotlib or Seaborn for visualizations."
   ]
  },
  {
   "cell_type": "markdown",
   "metadata": {},
   "source": [
    "Load And Print"
   ]
  },
  {
   "cell_type": "code",
   "execution_count": 37,
   "metadata": {},
   "outputs": [
    {
     "name": "stdout",
     "output_type": "stream",
     "text": [
      "         Date  Price (All)  Change (All)  Price (New)  Change (New)  \\\n",
      "0  1952-11-01         1891           0.0         2107           0.0   \n",
      "1  1953-02-01         1891           0.0         2107           0.0   \n",
      "2  1953-05-01         1891           0.0         2107           0.0   \n",
      "3  1953-08-01         1881           0.0         2117           0.0   \n",
      "4  1953-11-01         1872          -1.0         2117           0.5   \n",
      "\n",
      "   Price (Modern)  Change (Modern)  Price (Older)  Change (Older)  \n",
      "0            2020              0.0           1524             0.0  \n",
      "1            2002              0.0           1542             0.0  \n",
      "2            2002              0.0           1542             0.0  \n",
      "3            2002              0.0           1524             0.0  \n",
      "4            1975             -2.2           1542             1.2  \n"
     ]
    }
   ],
   "source": [
    "import pandas as pd\n",
    "\n",
    "# Load the data from the given file path\n",
    "data = pd.read_csv('C:/Users/jamar/Downloads/HOUSE_PRICES_ANNUAL_DATASET.csv')\n",
    "\n",
    "# Print the first few rows of the dataset to inspect the data\n",
    "print(data.head())"
   ]
  },
  {
   "cell_type": "markdown",
   "metadata": {},
   "source": [
    "Column Extraction"
   ]
  },
  {
   "cell_type": "code",
   "execution_count": 39,
   "metadata": {},
   "outputs": [
    {
     "name": "stdout",
     "output_type": "stream",
     "text": [
      "   Price (All)  Price (New)  Price (Modern)  Price (Older)\n",
      "0         1891         2107            2020           1524\n",
      "1         1891         2107            2002           1542\n",
      "2         1891         2107            2002           1542\n",
      "3         1881         2117            2002           1524\n",
      "4         1872         2117            1975           1542\n"
     ]
    }
   ],
   "source": [
    "# Extract the relevant columns for analysis\n",
    "prices = data[['Price (All)', 'Price (New)', 'Price (Modern)', 'Price (Older)']]\n",
    "\n",
    "# Print the first few rows to check if the data looks correct\n",
    "print(prices.head())"
   ]
  },
  {
   "cell_type": "markdown",
   "metadata": {},
   "source": [
    "Statistics Performance"
   ]
  },
  {
   "cell_type": "code",
   "execution_count": 40,
   "metadata": {},
   "outputs": [
    {
     "name": "stdout",
     "output_type": "stream",
     "text": [
      "F-statistic: 3.717332313362784\n",
      "P-value: 0.01120781686637583\n"
     ]
    }
   ],
   "source": [
    "from scipy import stats\n",
    "\n",
    "# Perform One-Way ANOVA\n",
    "f_stat, p_value = stats.f_oneway(prices['Price (All)'].dropna(), \n",
    "                                 prices['Price (New)'].dropna(), \n",
    "                                 prices['Price (Modern)'].dropna(), \n",
    "                                 prices['Price (Older)'].dropna())\n",
    "\n",
    "# Print the results of the ANOVA test\n",
    "print(f\"F-statistic: {f_stat}\")\n",
    "print(f\"P-value: {p_value}\")"
   ]
  },
  {
   "cell_type": "markdown",
   "metadata": {},
   "source": [
    "Multpile Population Means Visualization"
   ]
  },
  {
   "cell_type": "code",
   "execution_count": 41,
   "metadata": {},
   "outputs": [
    {
     "data": {
      "image/png": "[encoded data removed]",
      "text/plain": [
       "<Figure size 1000x600 with 1 Axes>"
      ]
     },
     "metadata": {},
     "output_type": "display_data"
    }
   ],
   "source": [
    "import matplotlib.pyplot as plt\n",
    "import seaborn as sns\n",
    "\n",
    "# Create a boxplot for the different price categories\n",
    "plt.figure(figsize=(10,6))\n",
    "sns.boxplot(data=prices)\n",
    "plt.title('House Price Comparison')\n",
    "plt.ylabel('Price')\n",
    "plt.show()"
   ]
  },
  {
   "cell_type": "markdown",
   "metadata": {},
   "source": [
    "Variance Comparison Analysis Below"
   ]
  },
  {
   "cell_type": "markdown",
   "metadata": {},
   "source": [
    "Problem:\n",
    "The problem involves comparing the variances in the monthly investor flow data across different categories (e.g., Domestic Equity, World Equity, Total Bond) to determine if there is a significant difference in variability between these categories. By comparing the variance in the investor flow for each category, we can assess if certain categories experience more volatile investor behavior than others.\n",
    "\n",
    "Data:\n",
    "The data consists of monthly investor flow information for different types of investments:\n",
    "\n",
    "Date: The date of the record.\n",
    "Total Equity: Total investor flow in equity investments.\n",
    "\n",
    "Domestic Equity: \n",
    "Investor flow in domestic equity.\n",
    "\n",
    "World Equity: \n",
    "Investor flow in world equity.\n",
    "\n",
    "Hybrid: \n",
    "Investor flow in hybrid investments.\n",
    "\n",
    "Total Bond: \n",
    "Total investor flow in bond investments.\n",
    "\n",
    "Taxable Bond: \n",
    "Investor flow in taxable bonds.\n",
    "\n",
    "Municipal Bond: \n",
    "Investor flow in municipal bonds.\n",
    "\n",
    "Total: \n",
    "The total investor flow across all categories.\n",
    "This dataset includes monthly records over several years, allowing for variance comparison across different categories of investment flow.\n",
    "\n",
    "Research Question:\n",
    "The primary research question is:\n",
    "Is there a significant difference in the variances of investor flows across different investment categories (such as Domestic Equity, World Equity, and Total Bond)?\n",
    "In other words, we are interested in knowing if the variability (spread or dispersion) of the monthly investor flow differs significantly between different investment categories.\n",
    "\n",
    "Appropriate Statistical Test:\n",
    "For this type of analysis, an F-test for variance comparison is appropriate. The F-test compares the variances of two or more groups to determine if they are significantly different. In the case of multiple categories, the Levene’s test or Bartlett’s test could also be used to check for equality of variances, depending on the assumptions about normality.\n",
    "\n",
    "Null Hypothesis (H0): \n",
    "The variances of the investor flow across all investment categories are equal.\n",
    "\n",
    "Alternative Hypothesis (H1): \n",
    "At least one pair of categories has different variances.\n",
    "The F-test will help determine if there is more variability in the investor flow for certain categories compared to others, or if the observed differences are due to random chance.\n",
    "\n",
    "Assumptions Underlying the Hypothesis Test:\n",
    "Normality: \n",
    "The data for each group (investment category) should be approximately normally distributed. The F-test is sensitive to deviations from normality.\n",
    "\n",
    "Consequence of Violating: \n",
    "If the data is not normally distributed, the results of the F-test may not be reliable.\n",
    "\n",
    "Remedy: \n",
    "If normality is violated, you can apply transformations (e.g., log transformation) or use non-parametric tests like Levene’s test, which is less sensitive to non-normality.\n",
    "\n",
    "Independence: \n",
    "The observations within each group should be independent of each other.\n",
    "\n",
    "Consequence of Violating: \n",
    "If observations are not independent (e.g., if there’s autocorrelation in the time series), the test results might be biased.\n",
    "\n",
    "Remedy: \n",
    "If independence is violated, consider using methods that account for autocorrelation or dependent samples.\n",
    "\n",
    "Homogeneity of Variance (Equality of Variances): \n",
    "The variances of each group being compared should be roughly equal.\n",
    "\n",
    "Consequence of Violating: \n",
    "If variances are significantly unequal, the F-test may give incorrect conclusions.\n",
    "\n",
    "Remedy:\n",
    " If variances are unequal, consider using Welch’s F-test or transform the data to stabilize the variances.\n",
    "\n",
    "Python Tool for Interpretation and Visualization:\n",
    "To assist with the interpretation of the results, I use several Python tools:\n",
    "SciPy for performing the statistical test (e.g., stats.f_oneway() for the F-test or stats.levene() for Levene’s test).\n",
    "\n",
    "Matplotlib/Seaborn for visualizing the data distribution and variances across groups:\n",
    "I use boxplots to visualize the spread and variance of the data for each category.\n",
    "NumPy/Pandas for data manipulation and computing summary statistics (mean, variance, etc.).\n",
    "Statsmodels can be used for more advanced statistical analysis and hypothesis testing."
   ]
  },
  {
   "cell_type": "markdown",
   "metadata": {},
   "source": [
    "Load and Inspect"
   ]
  },
  {
   "cell_type": "code",
   "execution_count": 44,
   "metadata": {},
   "outputs": [
    {
     "name": "stdout",
     "output_type": "stream",
     "text": [
      "         Date  Total Equity  Domestic Equity  World Equity  Hybrid  \\\n",
      "0  2007-01-31         27364             5723         21641    5321   \n",
      "1  2007-02-28         25306             8411         16895    5164   \n",
      "2  2007-03-31          6551             -486          7037    3764   \n",
      "3  2007-04-30         16063             -163         16225    4384   \n",
      "4  2007-05-31         -2876           -14176         11300    4318   \n",
      "\n",
      "   Total Bond  Taxable Bond  Municipal Bond  Total  \n",
      "0       15287         12453            2834  47972  \n",
      "1       15064         11926            3137  45533  \n",
      "2       15782         12925            2857  26097  \n",
      "3       13701         12346            1355  34148  \n",
      "4       20813         17215            3598  22256  \n"
     ]
    }
   ],
   "source": [
    "import pandas as pd\n",
    "\n",
    "# Load the data\n",
    "data = pd.read_csv('C:/Users/jamar/Downloads/INVESTOR_FLOW_MONTHLY_DATASET.csv')\n",
    "\n",
    "# Print the first few rows of the dataset to inspect the data\n",
    "print(data.head())"
   ]
  },
  {
   "cell_type": "markdown",
   "metadata": {},
   "source": [
    "Column Extraction"
   ]
  },
  {
   "cell_type": "code",
   "execution_count": 45,
   "metadata": {},
   "outputs": [
    {
     "name": "stdout",
     "output_type": "stream",
     "text": [
      "   Domestic Equity  World Equity  Hybrid  Total Bond\n",
      "0             5723         21641    5321       15287\n",
      "1             8411         16895    5164       15064\n",
      "2             -486          7037    3764       15782\n",
      "3             -163         16225    4384       13701\n",
      "4           -14176         11300    4318       20813\n"
     ]
    }
   ],
   "source": [
    "# Extract the columns for analysis\n",
    "columns_of_interest = ['Domestic Equity', 'World Equity', 'Hybrid', 'Total Bond']\n",
    "\n",
    "# Remove any rows with NaN values in the columns of interest\n",
    "clean_data = data[columns_of_interest].dropna()\n",
    "\n",
    "# Print the cleaned data to check for NaN values and the structure\n",
    "print(clean_data.head())"
   ]
  },
  {
   "cell_type": "markdown",
   "metadata": {},
   "source": [
    "Statistics Perfromance"
   ]
  },
  {
   "cell_type": "code",
   "execution_count": 46,
   "metadata": {},
   "outputs": [
    {
     "name": "stdout",
     "output_type": "stream",
     "text": [
      "Levene’s test statistic: 28.845186144232553\n",
      "P-value: 7.409379551981056e-17\n"
     ]
    }
   ],
   "source": [
    "import scipy.stats as stats\n",
    "\n",
    "# Perform Levene's test to compare the variances of the selected groups\n",
    "stat, p_value = stats.levene(clean_data['Domestic Equity'], \n",
    "                             clean_data['World Equity'], \n",
    "                             clean_data['Hybrid'],\n",
    "                             clean_data['Total Bond'])\n",
    "\n",
    "# Print the results\n",
    "print(f'Levene’s test statistic: {stat}')\n",
    "print(f'P-value: {p_value}')"
   ]
  },
  {
   "cell_type": "markdown",
   "metadata": {},
   "source": [
    "Variance Comparison Analysis Visualizations"
   ]
  },
  {
   "cell_type": "code",
   "execution_count": 47,
   "metadata": {},
   "outputs": [
    {
     "data": {
      "image/png": "[encoded data removed]",
      "text/plain": [
       "<Figure size 1000x600 with 1 Axes>"
      ]
     },
     "metadata": {},
     "output_type": "display_data"
    }
   ],
   "source": [
    "import matplotlib.pyplot as plt\n",
    "import seaborn as sns\n",
    "\n",
    "# Visualization of the distributions (Boxplots)\n",
    "plt.figure(figsize=(10, 6))\n",
    "sns.boxplot(data=clean_data[columns_of_interest])\n",
    "plt.title('Boxplot of Investment Categories')\n",
    "plt.ylabel('Investment Flow')\n",
    "plt.xticks(rotation=45)\n",
    "plt.show()"
   ]
  }
 ],
 "metadata": {
  "kernelspec": {
   "display_name": "Python 3",
   "language": "python",
   "name": "python3"
  },
  "language_info": {
   "codemirror_mode": {
    "name": "ipython",
    "version": 3
   },
   "file_extension": ".py",
   "mimetype": "text/x-python",
   "name": "python",
   "nbconvert_exporter": "python",
   "pygments_lexer": "ipython3",
   "version": "3.12.1"
  }
 },
 "nbformat": 4,
 "nbformat_minor": 2
}
